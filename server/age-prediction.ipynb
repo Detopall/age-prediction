{
 "cells": [
  {
   "attachments": {},
   "cell_type": "markdown",
   "metadata": {},
   "source": [
    "# Age Prediction"
   ]
  },
  {
   "cell_type": "code",
   "execution_count": 1,
   "metadata": {},
   "outputs": [],
   "source": [
    "import numpy as np\n",
    "import pandas as pd\n",
    "from pathlib import Path\n",
    "import os.path\n",
    "from sklearn.model_selection import train_test_split\n",
    "import tensorflow as tf\n",
    "from sklearn.metrics import r2_score\n",
    "import tensorflow as tf\n",
    "from tensorflow.keras.layers import Dense, Conv2D, GlobalAveragePooling2D, MaxPool2D\n",
    "from tensorflow.keras.callbacks import EarlyStopping\n",
    "from PIL import Image"
   ]
  },
  {
   "cell_type": "code",
   "execution_count": 3,
   "metadata": {},
   "outputs": [],
   "source": [
    "images_directory = Path(\"age-data/20-50/20-50\")"
   ]
  },
  {
   "cell_type": "code",
   "execution_count": 4,
   "metadata": {},
   "outputs": [
    {
     "name": "stderr",
     "output_type": "stream",
     "text": [
      "C:\\Users\\denis\\AppData\\Local\\Temp\\ipykernel_4616\\1766468612.py:2: DeprecationWarning: `np.int` is a deprecated alias for the builtin `int`. To silence this warning, use `int` by itself. Doing this will not modify any behavior and is safe. When replacing `np.int`, you may wish to use e.g. `np.int64` or `np.int32` to specify the precision. If you wish to review your current use, check the release note link for additional information.\n",
      "Deprecated in NumPy 1.20; for more details and guidance: https://numpy.org/devdocs/release/1.20.0-notes.html#deprecations\n",
      "  ages = pd.Series(filepaths.apply(lambda x: os.path.split(os.path.split(x)[0])[1]), name='Age').astype(np.int)\n"
     ]
    }
   ],
   "source": [
    "filepaths = pd.Series(list(images_directory.glob(r'**/*.jpg')), name='Filepath').astype(str)\n",
    "ages = pd.Series(filepaths.apply(lambda x: os.path.split(os.path.split(x)[0])[1]), name='Age').astype(np.int)\n",
    "\n",
    "images = pd.concat([filepaths, ages], axis=1).sample(frac=1.0, random_state=113).reset_index(drop=True)"
   ]
  },
  {
   "cell_type": "code",
   "execution_count": 5,
   "metadata": {},
   "outputs": [
    {
     "data": {
      "text/html": [
       "<div>\n",
       "<style scoped>\n",
       "    .dataframe tbody tr th:only-of-type {\n",
       "        vertical-align: middle;\n",
       "    }\n",
       "\n",
       "    .dataframe tbody tr th {\n",
       "        vertical-align: top;\n",
       "    }\n",
       "\n",
       "    .dataframe thead th {\n",
       "        text-align: right;\n",
       "    }\n",
       "</style>\n",
       "<table border=\"1\" class=\"dataframe\">\n",
       "  <thead>\n",
       "    <tr style=\"text-align: right;\">\n",
       "      <th></th>\n",
       "      <th>Filepath</th>\n",
       "      <th>Age</th>\n",
       "    </tr>\n",
       "  </thead>\n",
       "  <tbody>\n",
       "    <tr>\n",
       "      <th>0</th>\n",
       "      <td>age-data\\20-50\\20-50\\train\\48\\129512.jpg</td>\n",
       "      <td>48</td>\n",
       "    </tr>\n",
       "    <tr>\n",
       "      <th>1</th>\n",
       "      <td>age-data\\20-50\\20-50\\train\\41\\173949.jpg</td>\n",
       "      <td>41</td>\n",
       "    </tr>\n",
       "    <tr>\n",
       "      <th>2</th>\n",
       "      <td>age-data\\20-50\\20-50\\test\\31\\44619.jpg</td>\n",
       "      <td>31</td>\n",
       "    </tr>\n",
       "    <tr>\n",
       "      <th>3</th>\n",
       "      <td>age-data\\20-50\\20-50\\test\\24\\40079.jpg</td>\n",
       "      <td>24</td>\n",
       "    </tr>\n",
       "    <tr>\n",
       "      <th>4</th>\n",
       "      <td>age-data\\20-50\\20-50\\train\\46\\147446.jpg</td>\n",
       "      <td>46</td>\n",
       "    </tr>\n",
       "  </tbody>\n",
       "</table>\n",
       "</div>"
      ],
      "text/plain": [
       "                                   Filepath  Age\n",
       "0  age-data\\20-50\\20-50\\train\\48\\129512.jpg   48\n",
       "1  age-data\\20-50\\20-50\\train\\41\\173949.jpg   41\n",
       "2    age-data\\20-50\\20-50\\test\\31\\44619.jpg   31\n",
       "3    age-data\\20-50\\20-50\\test\\24\\40079.jpg   24\n",
       "4  age-data\\20-50\\20-50\\train\\46\\147446.jpg   46"
      ]
     },
     "execution_count": 5,
     "metadata": {},
     "output_type": "execute_result"
    }
   ],
   "source": [
    "images.head()"
   ]
  },
  {
   "cell_type": "code",
   "execution_count": 6,
   "metadata": {},
   "outputs": [],
   "source": [
    "# We will use 8,000 images for training and 2,000 images for testing\n",
    "\n",
    "image_df = images.sample(10000, random_state=1).reset_index(drop=True)\n",
    "\n",
    "train_df, test_df = train_test_split(image_df, train_size=0.8, shuffle=True, random_state=123)"
   ]
  },
  {
   "cell_type": "code",
   "execution_count": 7,
   "metadata": {},
   "outputs": [],
   "source": [
    "# We will use the ImageDataGenerator class modify the images to make the model more robust\n",
    "\n",
    "train_generator = tf.keras.preprocessing.image.ImageDataGenerator(\n",
    "    rescale=1./255,\n",
    "    validation_split=0.2,\n",
    "    horizontal_flip=True,\n",
    "    rotation_range=20,\n",
    "    width_shift_range=0.2,\n",
    "    height_shift_range=0.2\n",
    ")\n",
    "\n",
    "test_generator = tf.keras.preprocessing.image.ImageDataGenerator(\n",
    "    rescale=1./255,\n",
    "\tvalidation_split=0.2,\n",
    "    horizontal_flip=True,\n",
    "    rotation_range=20,\n",
    "    width_shift_range=0.2,\n",
    "    height_shift_range=0.2\n",
    ")"
   ]
  },
  {
   "cell_type": "code",
   "execution_count": 8,
   "metadata": {},
   "outputs": [
    {
     "name": "stdout",
     "output_type": "stream",
     "text": [
      "Found 6400 validated image filenames.\n",
      "Found 1600 validated image filenames.\n",
      "Found 2000 validated image filenames.\n"
     ]
    }
   ],
   "source": [
    "# We will use the flow_from_dataframe method to load the images from the dataframe\n",
    "\n",
    "train_data_generator = train_generator.flow_from_dataframe(\n",
    "    dataframe=train_df,\n",
    "    x_col='Filepath',\n",
    "    y_col='Age',\n",
    "    target_size=(120, 120),\n",
    "    color_mode='rgb',\n",
    "    class_mode='raw',\n",
    "    batch_size=32,\n",
    "    shuffle=True,\n",
    "    seed=42,\n",
    "    subset='training'\n",
    ")\n",
    "\n",
    "val_data_generator = train_generator.flow_from_dataframe(\n",
    "    dataframe=train_df,\n",
    "    x_col='Filepath',\n",
    "    y_col='Age',\n",
    "    target_size=(120, 120),\n",
    "    color_mode='rgb',\n",
    "    class_mode='raw',\n",
    "    batch_size=32,\n",
    "    shuffle=True,\n",
    "    seed=42,\n",
    "    subset='validation'\n",
    ")\n",
    "\n",
    "test_data_generator = test_generator.flow_from_dataframe(\n",
    "    dataframe=test_df,\n",
    "    x_col='Filepath',\n",
    "    y_col='Age',\n",
    "    target_size=(120, 120),\n",
    "    color_mode='rgb',\n",
    "    class_mode='raw',\n",
    "    batch_size=32,\n",
    "    shuffle=False\n",
    ")"
   ]
  },
  {
   "cell_type": "code",
   "execution_count": 9,
   "metadata": {},
   "outputs": [
    {
     "name": "stdout",
     "output_type": "stream",
     "text": [
      "Epoch 1/100\n",
      "200/200 [==============================] - 58s 286ms/step - loss: 295.0826 - val_loss: 111.9007\n",
      "Epoch 2/100\n",
      "200/200 [==============================] - 56s 280ms/step - loss: 87.7057 - val_loss: 84.7967\n",
      "Epoch 3/100\n",
      "200/200 [==============================] - 60s 301ms/step - loss: 84.1032 - val_loss: 87.4637\n",
      "Epoch 4/100\n",
      "200/200 [==============================] - 56s 280ms/step - loss: 82.8537 - val_loss: 90.6325\n",
      "Epoch 5/100\n",
      "200/200 [==============================] - 57s 285ms/step - loss: 83.1471 - val_loss: 85.4245\n",
      "Epoch 6/100\n",
      "200/200 [==============================] - 54s 270ms/step - loss: 82.9910 - val_loss: 87.0001\n",
      "Epoch 7/100\n",
      "200/200 [==============================] - 54s 272ms/step - loss: 82.9575 - val_loss: 82.7195\n",
      "Epoch 8/100\n",
      "200/200 [==============================] - 58s 290ms/step - loss: 82.0107 - val_loss: 83.7930\n",
      "Epoch 9/100\n",
      "200/200 [==============================] - 54s 271ms/step - loss: 82.1413 - val_loss: 84.1127\n",
      "Epoch 10/100\n",
      "200/200 [==============================] - 54s 270ms/step - loss: 83.0723 - val_loss: 92.5349\n",
      "Epoch 11/100\n",
      "200/200 [==============================] - 53s 265ms/step - loss: 83.2115 - val_loss: 87.5260\n",
      "Epoch 12/100\n",
      "200/200 [==============================] - 54s 269ms/step - loss: 82.8868 - val_loss: 83.5710\n",
      "Epoch 13/100\n",
      "200/200 [==============================] - 54s 271ms/step - loss: 82.9572 - val_loss: 84.2749\n",
      "Epoch 14/100\n",
      "200/200 [==============================] - 57s 285ms/step - loss: 82.8132 - val_loss: 82.6178\n",
      "Epoch 15/100\n",
      "200/200 [==============================] - 54s 272ms/step - loss: 82.2019 - val_loss: 83.5479\n",
      "Epoch 16/100\n",
      "200/200 [==============================] - 58s 289ms/step - loss: 82.6739 - val_loss: 82.4267\n",
      "Epoch 17/100\n",
      "200/200 [==============================] - 55s 275ms/step - loss: 83.1256 - val_loss: 84.9498\n",
      "Epoch 18/100\n",
      "200/200 [==============================] - 57s 283ms/step - loss: 83.1541 - val_loss: 83.4844\n",
      "Epoch 19/100\n",
      "200/200 [==============================] - 55s 275ms/step - loss: 83.1462 - val_loss: 88.8246\n",
      "Epoch 20/100\n",
      "200/200 [==============================] - 54s 271ms/step - loss: 82.6445 - val_loss: 82.9989\n",
      "Epoch 21/100\n",
      "200/200 [==============================] - 54s 271ms/step - loss: 82.4390 - val_loss: 82.9742\n",
      "Epoch 22/100\n",
      "200/200 [==============================] - 54s 272ms/step - loss: 82.9834 - val_loss: 88.1876\n",
      "Epoch 23/100\n",
      "200/200 [==============================] - 54s 271ms/step - loss: 82.3967 - val_loss: 82.6735\n",
      "Epoch 24/100\n",
      "200/200 [==============================] - 55s 273ms/step - loss: 82.4367 - val_loss: 82.4336\n",
      "Epoch 25/100\n",
      "200/200 [==============================] - 54s 272ms/step - loss: 81.8357 - val_loss: 84.8668\n",
      "Epoch 26/100\n",
      "200/200 [==============================] - 58s 288ms/step - loss: 83.0298 - val_loss: 86.0174\n",
      "Epoch 27/100\n",
      "200/200 [==============================] - 54s 272ms/step - loss: 82.6088 - val_loss: 82.6234\n",
      "Epoch 28/100\n",
      "200/200 [==============================] - 61s 305ms/step - loss: 81.9202 - val_loss: 83.7019\n",
      "Epoch 29/100\n",
      "200/200 [==============================] - 54s 271ms/step - loss: 82.8563 - val_loss: 83.0162\n",
      "Epoch 30/100\n",
      "200/200 [==============================] - 47s 235ms/step - loss: 83.7742 - val_loss: 90.0829\n",
      "Epoch 31/100\n",
      "200/200 [==============================] - 50s 249ms/step - loss: 82.1154 - val_loss: 82.6461\n",
      "Epoch 32/100\n",
      "200/200 [==============================] - 54s 272ms/step - loss: 82.3581 - val_loss: 86.2283\n",
      "Epoch 33/100\n",
      "200/200 [==============================] - 55s 273ms/step - loss: 81.9969 - val_loss: 88.9994\n",
      "Epoch 34/100\n",
      "200/200 [==============================] - 55s 274ms/step - loss: 82.0915 - val_loss: 82.7122\n",
      "Epoch 35/100\n",
      "200/200 [==============================] - 55s 273ms/step - loss: 81.6674 - val_loss: 84.0023\n",
      "Epoch 36/100\n",
      "200/200 [==============================] - 55s 275ms/step - loss: 82.6613 - val_loss: 84.8667\n"
     ]
    }
   ],
   "source": [
    "# Creating the model\n",
    "\n",
    "model = tf.keras.Sequential()\n",
    "\n",
    "model.add(Conv2D(filters=16, kernel_size=(3, 3), activation='relu', input_shape=(120, 120, 3)))\n",
    "model.add(MaxPool2D())\n",
    "model.add(Conv2D(filters=32, kernel_size=(3, 3), activation='relu'))\n",
    "model.add(MaxPool2D())\n",
    "model.add(GlobalAveragePooling2D())\n",
    "model.add(Dense(64, activation='relu'))\n",
    "model.add(Dense(64, activation='relu'))\n",
    "model.add(Dense(64, activation='relu'))\n",
    "model.add(Dense(1, activation='linear'))\n",
    "\n",
    "model.compile(\n",
    "    optimizer='adam',\n",
    "    loss='mse'\n",
    ")\n",
    "\n",
    "history = model.fit(\n",
    "    train_data_generator,\n",
    "    validation_data=val_data_generator,\n",
    "    epochs=100,\n",
    "    callbacks=[\n",
    "        EarlyStopping(\n",
    "            monitor='val_loss',\n",
    "            patience=20,\n",
    "            restore_best_weights=True\n",
    "        )\n",
    "    ]\n",
    ")"
   ]
  },
  {
   "cell_type": "code",
   "execution_count": 10,
   "metadata": {},
   "outputs": [
    {
     "name": "stdout",
     "output_type": "stream",
     "text": [
      "63/63 [==============================] - 13s 158ms/step\n",
      "Test RMSE: 8.99029\n",
      "Test R^2 Score: -0.00132\n"
     ]
    }
   ],
   "source": [
    "predicted_ages = np.squeeze(model.predict(test_data_generator))\n",
    "true_ages = test_data_generator.labels\n",
    "\n",
    "rmse = np.sqrt(model.evaluate(test_data_generator, verbose=0))\n",
    "print(\"Test RMSE: {:.5f}\".format(rmse))\n",
    "\n",
    "r2 = r2_score(true_ages, predicted_ages)\n",
    "print(\"Test R^2 Score: {:.5f}\".format(r2))"
   ]
  },
  {
   "cell_type": "code",
   "execution_count": 11,
   "metadata": {},
   "outputs": [],
   "source": [
    "model.save('age-model.h5')"
   ]
  }
 ],
 "metadata": {
  "kernelspec": {
   "display_name": "server-3kZMnCl6",
   "language": "python",
   "name": "python3"
  },
  "language_info": {
   "codemirror_mode": {
    "name": "ipython",
    "version": 3
   },
   "file_extension": ".py",
   "mimetype": "text/x-python",
   "name": "python",
   "nbconvert_exporter": "python",
   "pygments_lexer": "ipython3",
   "version": "3.11.1"
  },
  "orig_nbformat": 4
 },
 "nbformat": 4,
 "nbformat_minor": 2
}
